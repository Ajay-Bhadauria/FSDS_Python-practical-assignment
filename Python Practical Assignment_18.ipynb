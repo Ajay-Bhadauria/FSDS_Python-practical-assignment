{
 "cells": [
  {
   "cell_type": "markdown",
   "id": "c5625c1e",
   "metadata": {},
   "source": [
    "Create a function that takes a list of non-negative integers and strings and return a new list\n",
    "without the strings.\n",
    "\n",
    "Examples\n",
    "\n",
    "filter_list([1, 2, &quot;a&quot;, &quot;b&quot;]) ➞ [1, 2]\n",
    "\n",
    "filter_list([1, &quot;a&quot;, &quot;b&quot;, 0, 15]) ➞ [1, 0, 15]"
   ]
  },
  {
   "cell_type": "code",
   "execution_count": null,
   "id": "70b9e118",
   "metadata": {},
   "outputs": [],
   "source": [
    "def filter_list(inp_list):\n",
    "    \n",
    "    out_list = []\n",
    "    \n",
    "    for i in inp_list:\n",
    "        if type(i) == int:\n",
    "            out_list.append(i)\n",
    "    return out_list"
   ]
  },
  {
   "cell_type": "code",
   "execution_count": null,
   "id": "fd43ef2a",
   "metadata": {},
   "outputs": [],
   "source": [
    "filter_list([1, 2, \"a\", \"b\"]) "
   ]
  },
  {
   "cell_type": "markdown",
   "id": "e827e948",
   "metadata": {},
   "source": [
    "# Question:2"
   ]
  },
  {
   "cell_type": "markdown",
   "id": "e8eb2dea",
   "metadata": {},
   "source": [
    "The &quot;Reverser&quot; takes a string as input and returns that string in reverse order, with the\n",
    "opposite case.\n",
    "\n",
    "Examples\n",
    "\n",
    "reverse(&quot;Hello World&quot;) ➞ &quot;DLROw OLLEh&quot;\n",
    "\n",
    "reverse(&quot;ReVeRsE&quot;) ➞ &quot;eSrEvEr&quot;"
   ]
  },
  {
   "cell_type": "code",
   "execution_count": null,
   "id": "03e7c28e",
   "metadata": {},
   "outputs": [],
   "source": [
    "def reverse(in_str):\n",
    "    out_str = ''\n",
    "    for i in in_str:\n",
    "        out_str = out_str+i.swapcase()\n",
    "    \n",
    "    return out_str[::-1]\n"
   ]
  },
  {
   "cell_type": "code",
   "execution_count": null,
   "id": "df707144",
   "metadata": {},
   "outputs": [],
   "source": [
    "reverse(\"Hello World\")"
   ]
  },
  {
   "cell_type": "code",
   "execution_count": null,
   "id": "110d5594",
   "metadata": {},
   "outputs": [],
   "source": [
    "reverse(\"ReVeRsE\") "
   ]
  },
  {
   "cell_type": "markdown",
   "id": "4698db8e",
   "metadata": {},
   "source": [
    "# Question:3"
   ]
  },
  {
   "cell_type": "markdown",
   "id": "ea151a71",
   "metadata": {},
   "source": [
    "You can assign variables from lists like this:\n",
    "\n",
    "\n",
    "    \n",
    "lst = [1, 2, 3, 4, 5, 6]\n",
    "\n",
    "first = lst[0]\n",
    "\n",
    "middle = lst[1:-1]\n",
    "\n",
    "last = lst[-1]\n",
    "\n",
    "print(first) ➞ outputs 1\n",
    "\n",
    "print(middle) ➞ outputs [2, 3, 4, 5]\n",
    "\n",
    "print(last) ➞ outputs 6\n"
   ]
  },
  {
   "cell_type": "code",
   "execution_count": null,
   "id": "7b57abe8",
   "metadata": {},
   "outputs": [],
   "source": [
    "def first_middle_last(inp_list):\n",
    "    \n",
    "    first = inp_list[0]\n",
    "    middle = inp_list[1:-1]\n",
    "    last = inp_list[-1]\n",
    "    \n",
    "    print(f'First➞{first}, Middle➞{middle}, last ➞{last}')"
   ]
  },
  {
   "cell_type": "code",
   "execution_count": null,
   "id": "48f26787",
   "metadata": {},
   "outputs": [],
   "source": [
    "first_middle_last([1,2,3,4,5,6])"
   ]
  },
  {
   "cell_type": "markdown",
   "id": "31335469",
   "metadata": {},
   "source": [
    "# Question:4"
   ]
  },
  {
   "cell_type": "markdown",
   "id": "d5d0a421",
   "metadata": {},
   "source": [
    "Write a function that calculates the factorial of a number recursively.\n",
    "\n",
    "Examples\n",
    "\n",
    "factorial(5) ➞ 120\n",
    "\n",
    "factorial(3) ➞ 6"
   ]
  },
  {
   "cell_type": "code",
   "execution_count": 14,
   "id": "70b487f6",
   "metadata": {},
   "outputs": [],
   "source": [
    "def factorial(n):\n",
    "    if n == 0:\n",
    "        return 1\n",
    "    if n <0:\n",
    "        return \"Factoroial does not exist\"\n",
    "\n",
    "    return n*factorial(n-1)"
   ]
  },
  {
   "cell_type": "code",
   "execution_count": 16,
   "id": "af9b7644",
   "metadata": {},
   "outputs": [
    {
     "data": {
      "text/plain": [
       "120"
      ]
     },
     "execution_count": 16,
     "metadata": {},
     "output_type": "execute_result"
    }
   ],
   "source": [
    "factorial(5)"
   ]
  },
  {
   "cell_type": "markdown",
   "id": "d0000b9a",
   "metadata": {},
   "source": [
    "# Question:5"
   ]
  },
  {
   "cell_type": "markdown",
   "id": "1bff8821",
   "metadata": {},
   "source": [
    "Write a function that moves all elements of one type to the end of the list.\n",
    "\n",
    "Examples\n",
    "\n",
    "move_to_end([1, 3, 2, 4, 4, 1], 1) ➞ [3, 2, 4, 4, 1, 1]\n",
    "\n",
    "move_to_end([7, 8, 9, 1, 2, 3, 4], 9) ➞ [7, 8, 1, 2, 3, 4, 9]\n",
    "\n",
    "move_to_end([&quot;a&quot;, &quot;a&quot;, &quot;a&quot;, &quot;b&quot;], &quot;a&quot;) ➞ [&quot;b&quot;, &quot;a&quot;, &quot;a&quot;, &quot;a&quot;]\n"
   ]
  },
  {
   "cell_type": "code",
   "execution_count": 4,
   "id": "7628970b",
   "metadata": {},
   "outputs": [],
   "source": [
    "def move_to_end(inp_list,move):\n",
    "    out_list1 = []\n",
    "    out_list2 = []\n",
    "    \n",
    "    for i in inp_list:\n",
    "        if i != move:\n",
    "            out_list1.append(i)\n",
    "        if i == move:\n",
    "            out_list2.append(i)\n",
    "            \n",
    "    out_list1.extend(out_list2)\n",
    "    return out_list1\n",
    "            \n",
    "    "
   ]
  },
  {
   "cell_type": "code",
   "execution_count": 6,
   "id": "b75318b4",
   "metadata": {},
   "outputs": [
    {
     "data": {
      "text/plain": [
       "[3, 2, 4, 4, 1, 1]"
      ]
     },
     "execution_count": 6,
     "metadata": {},
     "output_type": "execute_result"
    }
   ],
   "source": [
    "move_to_end([1, 3, 2, 4, 4, 1], 1) "
   ]
  }
 ],
 "metadata": {
  "kernelspec": {
   "display_name": "Python 3",
   "language": "python",
   "name": "python3"
  },
  "language_info": {
   "codemirror_mode": {
    "name": "ipython",
    "version": 3
   },
   "file_extension": ".py",
   "mimetype": "text/x-python",
   "name": "python",
   "nbconvert_exporter": "python",
   "pygments_lexer": "ipython3",
   "version": "3.8.8"
  }
 },
 "nbformat": 4,
 "nbformat_minor": 5
}
