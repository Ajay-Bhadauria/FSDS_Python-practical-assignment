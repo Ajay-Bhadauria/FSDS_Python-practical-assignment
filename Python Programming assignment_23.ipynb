{
 "cells": [
  {
   "cell_type": "markdown",
   "id": "790aa82f",
   "metadata": {},
   "source": [
    "# Question:1"
   ]
  },
  {
   "cell_type": "markdown",
   "id": "778db8bc",
   "metadata": {},
   "source": [
    "Create a function that takes a number as an argument and returns True or False depending\n",
    "on whether the number is symmetrical or not. A number is symmetrical when it is the same as\n",
    "its reverse.\n",
    "\n",
    "Examples\n",
    "\n",
    "is_symmetrical(7227) ➞ True"
   ]
  },
  {
   "cell_type": "code",
   "execution_count": 39,
   "id": "4028f807",
   "metadata": {},
   "outputs": [],
   "source": [
    "####converting num to string\n",
    "def is_symmetrical(num):\n",
    "    num = str(num)\n",
    "    if num == num[::-1]:\n",
    "        print(f'{num} is palindrome')\n",
    "    else:\n",
    "        print(f'{num} is not a palindrome')"
   ]
  },
  {
   "cell_type": "code",
   "execution_count": 41,
   "id": "415a8cb3",
   "metadata": {},
   "outputs": [
    {
     "name": "stdout",
     "output_type": "stream",
     "text": [
      "123 is not a palindrome\n"
     ]
    }
   ],
   "source": [
    "is_symmetrical(123)"
   ]
  },
  {
   "cell_type": "code",
   "execution_count": 42,
   "id": "a7791d5d",
   "metadata": {},
   "outputs": [
    {
     "name": "stdout",
     "output_type": "stream",
     "text": [
      "121 is palindrome\n"
     ]
    }
   ],
   "source": [
    "is_symmetrical(121)"
   ]
  },
  {
   "cell_type": "code",
   "execution_count": 36,
   "id": "871ed1a4",
   "metadata": {},
   "outputs": [],
   "source": [
    "#without converitng num to string\n",
    "def is_symm_orNot(num):\n",
    "    \n",
    "    temp=num\n",
    "    rev=0\n",
    "    while(num>0):\n",
    "        dig=num%10\n",
    "        rev=rev*10+dig\n",
    "        num=num//10\n",
    "    if(temp==rev):\n",
    "        print(f'{temp} is palindrome')\n",
    "    else:\n",
    "        print(f'{temp} is not a palindrome')"
   ]
  },
  {
   "cell_type": "code",
   "execution_count": 44,
   "id": "a17c7c03",
   "metadata": {},
   "outputs": [
    {
     "name": "stdout",
     "output_type": "stream",
     "text": [
      "123 is not a palindrome\n"
     ]
    }
   ],
   "source": [
    "is_symm_orNot(123)"
   ]
  },
  {
   "cell_type": "markdown",
   "id": "b2833a7d",
   "metadata": {},
   "source": [
    "# Question:2"
   ]
  },
  {
   "cell_type": "markdown",
   "id": "c6a01674",
   "metadata": {},
   "source": [
    "Given a string of numbers separated by a comma and space, return the product of the\n",
    "numbers.\n",
    "\n",
    "Examples\n",
    "\n",
    "multiply_nums(&quot;2, 3&quot;) ➞ 6\n",
    "\n",
    "multiply_nums(&quot;1, 2, 3, 4&quot;) ➞ 24"
   ]
  },
  {
   "cell_type": "code",
   "execution_count": 94,
   "id": "1b70bcda",
   "metadata": {},
   "outputs": [],
   "source": [
    "def multiply_nums(string):\n",
    "    \n",
    "    s = string.replace(' ','').split(\",\")\n",
    "    mul = 1\n",
    "  \n",
    "    for i in s:\n",
    "        mul = mul*int(i)\n",
    "    return mul"
   ]
  },
  {
   "cell_type": "code",
   "execution_count": 98,
   "id": "f9d42a08",
   "metadata": {},
   "outputs": [
    {
     "data": {
      "text/plain": [
       "30"
      ]
     },
     "execution_count": 98,
     "metadata": {},
     "output_type": "execute_result"
    }
   ],
   "source": [
    "multiply_nums(\"1,   5, 6\")"
   ]
  },
  {
   "cell_type": "code",
   "execution_count": 99,
   "id": "a7f3baf9",
   "metadata": {},
   "outputs": [
    {
     "data": {
      "text/plain": [
       "['1', '2', '3']"
      ]
     },
     "execution_count": 99,
     "metadata": {},
     "output_type": "execute_result"
    }
   ],
   "source": [
    "s"
   ]
  },
  {
   "cell_type": "code",
   "execution_count": 75,
   "id": "69e6ef07",
   "metadata": {},
   "outputs": [],
   "source": [
    "string = '1,2,3'\n",
    "s = string.replace(' ','').split(\",\")\n",
    "mul = 1\n",
    "for i in range (1,len(s)+1):\n",
    "    mul = mul*i\n",
    "  "
   ]
  },
  {
   "cell_type": "code",
   "execution_count": 100,
   "id": "a6a08df2",
   "metadata": {},
   "outputs": [
    {
     "data": {
      "text/plain": [
       "6"
      ]
     },
     "execution_count": 100,
     "metadata": {},
     "output_type": "execute_result"
    }
   ],
   "source": [
    "mul"
   ]
  },
  {
   "cell_type": "markdown",
   "id": "b88a098d",
   "metadata": {},
   "source": [
    "# Question:3"
   ]
  },
  {
   "cell_type": "markdown",
   "id": "ddb244d5",
   "metadata": {},
   "source": [
    "Create a function that squares every digit of a number.\n",
    "\n",
    "Examples\n",
    "\n",
    "square_digits(9119) ➞ 811181\n",
    "\n",
    "square_digits(2483) ➞ 416649"
   ]
  },
  {
   "cell_type": "code",
   "execution_count": 130,
   "id": "97e6cfad",
   "metadata": {},
   "outputs": [],
   "source": [
    "def square_digit(num):\n",
    "    l =[]\n",
    "    s = str(num)\n",
    "    for i in s:\n",
    "        b =int(i)\n",
    "        sq = (b**2)\n",
    "        l.append(sq)\n",
    "    for i in l:\n",
    "        print(i,end = '') "
   ]
  },
  {
   "cell_type": "code",
   "execution_count": 132,
   "id": "4066cbc7",
   "metadata": {},
   "outputs": [
    {
     "name": "stdout",
     "output_type": "stream",
     "text": [
      "811664"
     ]
    }
   ],
   "source": [
    "square_digit(948)"
   ]
  },
  {
   "cell_type": "code",
   "execution_count": 135,
   "id": "3643a98d",
   "metadata": {},
   "outputs": [
    {
     "name": "stdout",
     "output_type": "stream",
     "text": [
      "811181"
     ]
    }
   ],
   "source": [
    "square_digit(9119)"
   ]
  },
  {
   "cell_type": "markdown",
   "id": "47539fa3",
   "metadata": {},
   "source": [
    "# Question:4"
   ]
  },
  {
   "cell_type": "markdown",
   "id": "5786e9ff",
   "metadata": {},
   "source": [
    "Create a function that sorts a list and removes all duplicate items from it.\n",
    "\n",
    "Examples\n",
    "\n",
    "setify([1, 3, 3, 5, 5]) ➞ [1, 3, 5]"
   ]
  },
  {
   "cell_type": "code",
   "execution_count": 191,
   "id": "c8b47649",
   "metadata": {},
   "outputs": [],
   "source": [
    "def sorted_list(inp_list):\n",
    "\n",
    "    list_final = []\n",
    "\n",
    "    for i in set(inp_list):\n",
    "        list_final.append(i)\n",
    "        list_final.sort()\n",
    "    return list_final"
   ]
  },
  {
   "cell_type": "code",
   "execution_count": 193,
   "id": "3bed991a",
   "metadata": {},
   "outputs": [
    {
     "data": {
      "text/plain": [
       "[0, 1, 2, 3, 5, 88, 99, 1000]"
      ]
     },
     "execution_count": 193,
     "metadata": {},
     "output_type": "execute_result"
    }
   ],
   "source": [
    "sorted_list([1,2,3,3,88,5,99,5,99,1000,0])"
   ]
  },
  {
   "cell_type": "code",
   "execution_count": 176,
   "id": "15bc92bc",
   "metadata": {},
   "outputs": [],
   "source": [
    "l = [1,3,3,5,5,99]\n",
    "l.sort()\n",
    "l_final = []\n",
    "\n",
    "for i in set(list(l)):\n",
    "    l_final.append(i)\n",
    "    l_final"
   ]
  },
  {
   "cell_type": "code",
   "execution_count": 177,
   "id": "659608ee",
   "metadata": {},
   "outputs": [
    {
     "data": {
      "text/plain": [
       "[99, 1, 3, 5]"
      ]
     },
     "execution_count": 177,
     "metadata": {},
     "output_type": "execute_result"
    }
   ],
   "source": [
    "l_final"
   ]
  },
  {
   "cell_type": "markdown",
   "id": "75fa5a01",
   "metadata": {},
   "source": [
    "# Question:5"
   ]
  },
  {
   "cell_type": "markdown",
   "id": "cee16405",
   "metadata": {},
   "source": [
    "Create a function that returns the mean of all digits.\n",
    "\n",
    "Examples\n",
    "\n",
    "mean(42) ➞ 3\n",
    "\n",
    "mean(12345) ➞ 3"
   ]
  },
  {
   "cell_type": "code",
   "execution_count": 209,
   "id": "0010d98f",
   "metadata": {},
   "outputs": [],
   "source": [
    "def mean_of_digits(num):\n",
    "    s = str(num)\n",
    "    add = 0\n",
    "    for i in s:\n",
    "        add = add+int(i)\n",
    "        m = add/(len(s))\n",
    "    print(f'Mean of {num} is {m}')"
   ]
  },
  {
   "cell_type": "code",
   "execution_count": 216,
   "id": "b50a6363",
   "metadata": {},
   "outputs": [
    {
     "name": "stdout",
     "output_type": "stream",
     "text": [
      "Mean of 42 is 3.0\n"
     ]
    }
   ],
   "source": [
    "mean_of_digits(42)"
   ]
  },
  {
   "cell_type": "code",
   "execution_count": 217,
   "id": "3af4c1be",
   "metadata": {},
   "outputs": [
    {
     "name": "stdout",
     "output_type": "stream",
     "text": [
      "Mean of 12345 is 3.0\n"
     ]
    }
   ],
   "source": [
    "mean_of_digits(12345)"
   ]
  },
  {
   "cell_type": "code",
   "execution_count": null,
   "id": "483872ce",
   "metadata": {},
   "outputs": [],
   "source": []
  }
 ],
 "metadata": {
  "kernelspec": {
   "display_name": "Python 3",
   "language": "python",
   "name": "python3"
  },
  "language_info": {
   "codemirror_mode": {
    "name": "ipython",
    "version": 3
   },
   "file_extension": ".py",
   "mimetype": "text/x-python",
   "name": "python",
   "nbconvert_exporter": "python",
   "pygments_lexer": "ipython3",
   "version": "3.8.8"
  }
 },
 "nbformat": 4,
 "nbformat_minor": 5
}
