{
 "cells": [
  {
   "cell_type": "markdown",
   "id": "6bda8e1d",
   "metadata": {},
   "source": [
    "# Question:1"
   ]
  },
  {
   "cell_type": "markdown",
   "id": "2d481959",
   "metadata": {},
   "source": [
    "Create a function that takes a string and returns a string in which each character is repeated\n",
    "once.\n",
    "\n",
    "Examples\n",
    "\n",
    "double_char(&quot;String&quot;) ➞ &quot;SSttrriinngg&quot;\n",
    "\n",
    "double_char(&quot;Hello World!&quot;) ➞ &quot;HHeelllloo WWoorrlldd!!&quot;"
   ]
  },
  {
   "cell_type": "code",
   "execution_count": 1,
   "id": "5cb8aa7a",
   "metadata": {},
   "outputs": [],
   "source": [
    "def double_char(inp_str):\n",
    "    out_str =''\n",
    "    for i in inp_str:\n",
    "        out_str= out_str+(i*2)\n",
    "    return out_str"
   ]
  },
  {
   "cell_type": "code",
   "execution_count": 2,
   "id": "d1576a37",
   "metadata": {
    "scrolled": true
   },
   "outputs": [
    {
     "data": {
      "text/plain": [
       "'aajjaayy'"
      ]
     },
     "execution_count": 2,
     "metadata": {},
     "output_type": "execute_result"
    }
   ],
   "source": [
    "double_char(\"ajay\")"
   ]
  },
  {
   "cell_type": "code",
   "execution_count": 3,
   "id": "1a0c17fe",
   "metadata": {},
   "outputs": [
    {
     "data": {
      "text/plain": [
       "'HHeelllloo  WWoorrlldd!!'"
      ]
     },
     "execution_count": 3,
     "metadata": {},
     "output_type": "execute_result"
    }
   ],
   "source": [
    "double_char(\"Hello World!\")"
   ]
  },
  {
   "cell_type": "markdown",
   "id": "549a2d70",
   "metadata": {},
   "source": [
    "# Question:2"
   ]
  },
  {
   "cell_type": "markdown",
   "id": "cc1df708",
   "metadata": {},
   "source": [
    "Create a function that reverses a boolean value and returns the string &quot;boolean expected&quot;\n",
    "if another variable type is given.\n",
    "\n",
    "Examples\n",
    "\n",
    "reverse(True) ➞ False\n",
    "\n",
    "reverse(False) ➞ True\n",
    "\n",
    "reverse(0) ➞ &quot;boolean expected&quot;\n"
   ]
  },
  {
   "cell_type": "code",
   "execution_count": 4,
   "id": "0631bc83",
   "metadata": {},
   "outputs": [],
   "source": [
    "def reverse(inp):\n",
    "    if type(inp) == bool:\n",
    "        if inp == True:\n",
    "            return False\n",
    "        if inp == False:\n",
    "            return True\n",
    "    elif type(inp)!= bool:\n",
    "        print('boolean expected')"
   ]
  },
  {
   "cell_type": "code",
   "execution_count": 5,
   "id": "cefe39e0",
   "metadata": {},
   "outputs": [
    {
     "data": {
      "text/plain": [
       "True"
      ]
     },
     "execution_count": 5,
     "metadata": {},
     "output_type": "execute_result"
    }
   ],
   "source": [
    "reverse(False)"
   ]
  },
  {
   "cell_type": "code",
   "execution_count": 6,
   "id": "913ccfca",
   "metadata": {},
   "outputs": [
    {
     "data": {
      "text/plain": [
       "False"
      ]
     },
     "execution_count": 6,
     "metadata": {},
     "output_type": "execute_result"
    }
   ],
   "source": [
    "reverse(True)"
   ]
  },
  {
   "cell_type": "code",
   "execution_count": 7,
   "id": "17e0c110",
   "metadata": {},
   "outputs": [
    {
     "name": "stdout",
     "output_type": "stream",
     "text": [
      "boolean expected\n"
     ]
    }
   ],
   "source": [
    "reverse(0)"
   ]
  },
  {
   "cell_type": "code",
   "execution_count": 8,
   "id": "0f9b105c",
   "metadata": {},
   "outputs": [
    {
     "name": "stdout",
     "output_type": "stream",
     "text": [
      "boolean expected\n"
     ]
    }
   ],
   "source": [
    "reverse(None)"
   ]
  },
  {
   "cell_type": "markdown",
   "id": "f215fc73",
   "metadata": {},
   "source": [
    "# Question:3"
   ]
  },
  {
   "cell_type": "markdown",
   "id": "aea3f34d",
   "metadata": {},
   "source": [
    "Create a function that returns the thickness (in meters) of a piece of paper after folding it n\n",
    "number of times. The paper starts off with a thickness of 0.5mm.\n",
    "\n",
    "Examples\n",
    "\n",
    "num_layers(1) ➞ &quot;0.001m&quot;\n",
    "\n",
    "#Paper folded once is 1mm (equal to 0.001m)\n",
    "\n",
    "num_layers(4) ➞ &quot;0.008m&quot;\n",
    "\n",
    "#Paper folded 4 times is 8mm (equal to 0.008m)\n",
    "\n",
    "\n",
    "\n"
   ]
  },
  {
   "cell_type": "code",
   "execution_count": 9,
   "id": "f76a4f87",
   "metadata": {},
   "outputs": [],
   "source": [
    "def n_layers(n):\n",
    "    thickness_mm=0.5\n",
    "    for i in range(n):\n",
    "        \n",
    "        thickness_mm = thickness_mm*2 \n",
    "        thickness_meters = thickness_mm/1000\n",
    "    print (f'{thickness_meters} meters')"
   ]
  },
  {
   "cell_type": "code",
   "execution_count": 10,
   "id": "e888b2f9",
   "metadata": {},
   "outputs": [
    {
     "name": "stdout",
     "output_type": "stream",
     "text": [
      "1048.576 meters\n"
     ]
    }
   ],
   "source": [
    "n_layers(21)"
   ]
  },
  {
   "cell_type": "markdown",
   "id": "d5a3d372",
   "metadata": {},
   "source": [
    "# Question:4"
   ]
  },
  {
   "cell_type": "markdown",
   "id": "31fbc112",
   "metadata": {},
   "source": [
    "Create a function that takes a single string as argument and returns an ordered list containing\n",
    "the indices of all capital letters in the string.\n",
    "\n",
    "Examples\n",
    "\n",
    "index_of_caps(&quot;eDaBiT&quot;) ➞ [1, 3, 5]\n",
    "\n",
    "index_of_caps(&quot;eQuINoX&quot;) ➞ [1, 3, 4, 6]\n"
   ]
  },
  {
   "cell_type": "code",
   "execution_count": 11,
   "id": "d2bd05e9",
   "metadata": {},
   "outputs": [],
   "source": [
    "def index_of_caps(inp_str):\n",
    "    out_str = []\n",
    "    for i in inp_str:\n",
    "        if i.isupper():\n",
    "            out_str.append(inp_str.index(i))\n",
    "    print(f'{inp_str} ---> {out_str}')\n",
    "    "
   ]
  },
  {
   "cell_type": "code",
   "execution_count": 12,
   "id": "6fb96011",
   "metadata": {},
   "outputs": [
    {
     "name": "stdout",
     "output_type": "stream",
     "text": [
      "eDaBiT ---> [1, 3, 5]\n"
     ]
    }
   ],
   "source": [
    "index_of_caps('eDaBiT')"
   ]
  },
  {
   "cell_type": "code",
   "execution_count": 13,
   "id": "f37741c8",
   "metadata": {},
   "outputs": [
    {
     "name": "stdout",
     "output_type": "stream",
     "text": [
      "eQuINoX ---> [1, 3, 4, 6]\n"
     ]
    }
   ],
   "source": [
    "index_of_caps('eQuINoX')"
   ]
  },
  {
   "cell_type": "markdown",
   "id": "3aa7cdaf",
   "metadata": {},
   "source": [
    "# Question:5"
   ]
  },
  {
   "cell_type": "markdown",
   "id": "56f5a77f",
   "metadata": {},
   "source": [
    "Using list comprehensions, create a function that finds all even numbers from 1 to the given\n",
    "number.\n",
    "\n",
    "Examples\n",
    "\n",
    "find_even_nums(8) ➞ [2, 4, 6, 8]"
   ]
  },
  {
   "cell_type": "code",
   "execution_count": 14,
   "id": "6f9e48b3",
   "metadata": {},
   "outputs": [],
   "source": [
    "def find_even_number(n):\n",
    "    l = []\n",
    "    for i in range(1,n+1):\n",
    "        if i%2 == 0:\n",
    "            l.append(i)\n",
    "            \n",
    "    return l"
   ]
  },
  {
   "cell_type": "code",
   "execution_count": 15,
   "id": "1a20ed4b",
   "metadata": {},
   "outputs": [
    {
     "data": {
      "text/plain": [
       "[2, 4, 6, 8, 10]"
      ]
     },
     "execution_count": 15,
     "metadata": {},
     "output_type": "execute_result"
    }
   ],
   "source": [
    "find_even_number(10)"
   ]
  },
  {
   "cell_type": "code",
   "execution_count": 16,
   "id": "1ed7a05c",
   "metadata": {},
   "outputs": [],
   "source": [
    "#using list comprehension\n",
    "def even(n):\n",
    "    \n",
    "    l = [i for i in range(1,n+1) if i%2 ==0]\n",
    "    return l"
   ]
  },
  {
   "cell_type": "code",
   "execution_count": 18,
   "id": "2b4b2c1e",
   "metadata": {},
   "outputs": [
    {
     "data": {
      "text/plain": [
       "[2, 4, 6, 8, 10, 12, 14]"
      ]
     },
     "execution_count": 18,
     "metadata": {},
     "output_type": "execute_result"
    }
   ],
   "source": [
    "even(15)"
   ]
  },
  {
   "cell_type": "code",
   "execution_count": null,
   "id": "9edb3878",
   "metadata": {},
   "outputs": [],
   "source": []
  }
 ],
 "metadata": {
  "kernelspec": {
   "display_name": "Python 3",
   "language": "python",
   "name": "python3"
  },
  "language_info": {
   "codemirror_mode": {
    "name": "ipython",
    "version": 3
   },
   "file_extension": ".py",
   "mimetype": "text/x-python",
   "name": "python",
   "nbconvert_exporter": "python",
   "pygments_lexer": "ipython3",
   "version": "3.8.8"
  }
 },
 "nbformat": 4,
 "nbformat_minor": 5
}
