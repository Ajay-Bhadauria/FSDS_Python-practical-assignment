{
 "cells": [
  {
   "cell_type": "markdown",
   "id": "72c0d46f",
   "metadata": {},
   "source": [
    "#### Write a Python Program to Display Fibonacci Sequence Using Recursion?"
   ]
  },
  {
   "cell_type": "code",
   "execution_count": 14,
   "id": "47b41a76",
   "metadata": {},
   "outputs": [
    {
     "name": "stdout",
     "output_type": "stream",
     "text": [
      "Fibonacci sequence:\n",
      "0\n",
      "1\n",
      "1\n",
      "2\n",
      "3\n",
      "5\n",
      "8\n",
      "13\n",
      "21\n",
      "34\n"
     ]
    }
   ],
   "source": [
    "def fib_recur(n):\n",
    "    if n <=1:\n",
    "        return n\n",
    "    else:\n",
    "        return (fib_recur(n-1)+ fib_recur(n-2))\n",
    "    \n",
    "terms = 10\n",
    "\n",
    "if terms <= 0:\n",
    "   print(\"Plese enter a positive integer\")\n",
    "else:\n",
    "   print(\"Fibonacci sequence:\")\n",
    "   for i in range(terms):\n",
    "       print(fib_recur(i))\n",
    "    "
   ]
  },
  {
   "cell_type": "markdown",
   "id": "86f5d6ca",
   "metadata": {},
   "source": [
    "#### Write a Python Program to Find Factorial of Number Using Recursion?"
   ]
  },
  {
   "cell_type": "code",
   "execution_count": 21,
   "id": "2ca23b44",
   "metadata": {},
   "outputs": [
    {
     "name": "stdout",
     "output_type": "stream",
     "text": [
      "Enter a number: 5\n",
      "Factorial of 5 is 120\n"
     ]
    }
   ],
   "source": [
    "def fact_recur(n):\n",
    "    if n ==1:\n",
    "        return n\n",
    "    else:\n",
    "        return (n*fact_recur(n-1))\n",
    "    \n",
    "number = int(input('Enter a number: '))\n",
    "if number == 0:\n",
    "    print('Please enter a positve number')\n",
    "\n",
    "if number  == 1:\n",
    "    print('factorial of {number} is 1')\n",
    "    \n",
    "else:\n",
    "    print ( f'Factorial of {number} is {fact_recur(number)}')"
   ]
  },
  {
   "cell_type": "code",
   "execution_count": 16,
   "id": "e489d176",
   "metadata": {},
   "outputs": [
    {
     "name": "stdout",
     "output_type": "stream",
     "text": [
      "factorial is 0\n"
     ]
    }
   ],
   "source": [
    "fact_recur(0)"
   ]
  },
  {
   "cell_type": "markdown",
   "id": "bd56ae31",
   "metadata": {},
   "source": [
    "#### Write a Python Program to calculate your Body Mass Index?"
   ]
  },
  {
   "cell_type": "code",
   "execution_count": 22,
   "id": "e060f52d",
   "metadata": {},
   "outputs": [
    {
     "name": "stdout",
     "output_type": "stream",
     "text": [
      "Enter the weight of person in KG : 56\n",
      "Enter the height of person in meter : 180\n",
      "BMI of person is :  0.0017283950617283952\n"
     ]
    }
   ],
   "source": [
    "weight=float(input(\"Enter the weight of person in KG : \"))\n",
    "height=float(input(\"Enter the height of person in meter : \"))\n",
    "bmi=weight/(height*height)\n",
    "print(\"BMI of person is : \",bmi)"
   ]
  },
  {
   "cell_type": "markdown",
   "id": "e5990bf7",
   "metadata": {},
   "source": [
    "#### Write a Python Program to calculate the natural logarithm of any number?"
   ]
  },
  {
   "cell_type": "code",
   "execution_count": 35,
   "id": "48a72581",
   "metadata": {},
   "outputs": [],
   "source": [
    "import math\n",
    "def log_natural(number):\n",
    "    return math.log1p(50)"
   ]
  },
  {
   "cell_type": "code",
   "execution_count": 36,
   "id": "87728f7e",
   "metadata": {},
   "outputs": [
    {
     "data": {
      "text/plain": [
       "3.9318256327243257"
      ]
     },
     "execution_count": 36,
     "metadata": {},
     "output_type": "execute_result"
    }
   ],
   "source": [
    "log_natural(50)"
   ]
  },
  {
   "cell_type": "markdown",
   "id": "eed1df7c",
   "metadata": {},
   "source": [
    "#### Write a Python Program for cube sum of first n natural numbers?"
   ]
  },
  {
   "cell_type": "code",
   "execution_count": 37,
   "id": "1a639802",
   "metadata": {},
   "outputs": [],
   "source": [
    "def sumOfSeries(n):\n",
    "    sum = 0\n",
    "    for i in range(1, n+1):\n",
    "        sum +=i*i*i\n",
    "          \n",
    "    return sum"
   ]
  },
  {
   "cell_type": "code",
   "execution_count": 38,
   "id": "807f2374",
   "metadata": {},
   "outputs": [
    {
     "data": {
      "text/plain": [
       "784"
      ]
     },
     "execution_count": 38,
     "metadata": {},
     "output_type": "execute_result"
    }
   ],
   "source": [
    "sumOfSeries(7)"
   ]
  },
  {
   "cell_type": "code",
   "execution_count": null,
   "id": "3b71b2a4",
   "metadata": {},
   "outputs": [],
   "source": []
  }
 ],
 "metadata": {
  "kernelspec": {
   "display_name": "Python 3",
   "language": "python",
   "name": "python3"
  },
  "language_info": {
   "codemirror_mode": {
    "name": "ipython",
    "version": 3
   },
   "file_extension": ".py",
   "mimetype": "text/x-python",
   "name": "python",
   "nbconvert_exporter": "python",
   "pygments_lexer": "ipython3",
   "version": "3.8.8"
  }
 },
 "nbformat": 4,
 "nbformat_minor": 5
}
