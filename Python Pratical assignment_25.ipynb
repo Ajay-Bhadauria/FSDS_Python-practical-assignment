{
 "cells": [
  {
   "cell_type": "markdown",
   "id": "0978bbdc",
   "metadata": {},
   "source": [
    "# Question: 1"
   ]
  },
  {
   "cell_type": "markdown",
   "id": "0847b9d0",
   "metadata": {},
   "source": [
    "Create a function that takes three integer arguments (a, b, c) and returns the amount ofintegers which are of equal value.\n",
    "\n",
    "Examples\n",
    "\n",
    "equal(3, 4, 3) ➞ 2\n",
    "\n",
    "equal(1, 1, 1) ➞ 3\n",
    "\n",
    "equal(3, 4, 1) ➞ 0\n"
   ]
  },
  {
   "cell_type": "code",
   "execution_count": 1,
   "id": "66ecc056",
   "metadata": {},
   "outputs": [],
   "source": [
    "def equal(a,b,c):\n",
    "    l = []\n",
    "    if a == b== c:\n",
    "        l.append(a)\n",
    "        l.append(b)\n",
    "        l.append(c)\n",
    "        print(l.count(a))\n",
    "    elif a == b:\n",
    "        l.append(a)\n",
    "        l.append(b)\n",
    "        print(l.count(a))\n",
    "    elif b == c:\n",
    "        l.append(b)\n",
    "        l.append(c)\n",
    "        print(l.count(b))\n",
    "    elif c == a:\n",
    "        l.append(c)\n",
    "        l.append(a)\n",
    "        print(l.count(c))\n",
    "    elif (a != b or b != c or c != a or a != b!= c):\n",
    "        print('0')\n",
    "\n",
    "    \n",
    "    \n",
    "    "
   ]
  },
  {
   "cell_type": "code",
   "execution_count": 2,
   "id": "3b8f8ea6",
   "metadata": {},
   "outputs": [
    {
     "name": "stdout",
     "output_type": "stream",
     "text": [
      "0\n"
     ]
    }
   ],
   "source": [
    "equal(4,5,6)"
   ]
  },
  {
   "cell_type": "code",
   "execution_count": 3,
   "id": "c3f2b6e0",
   "metadata": {},
   "outputs": [
    {
     "name": "stdout",
     "output_type": "stream",
     "text": [
      "3\n"
     ]
    }
   ],
   "source": [
    "equal(1,1,1)"
   ]
  },
  {
   "cell_type": "code",
   "execution_count": 4,
   "id": "8b3bd974",
   "metadata": {},
   "outputs": [
    {
     "name": "stdout",
     "output_type": "stream",
     "text": [
      "2\n"
     ]
    }
   ],
   "source": [
    "equal(8,9,9)"
   ]
  },
  {
   "cell_type": "code",
   "execution_count": 5,
   "id": "dfc39923",
   "metadata": {},
   "outputs": [
    {
     "name": "stdout",
     "output_type": "stream",
     "text": [
      "2\n"
     ]
    }
   ],
   "source": [
    "equal(9,9,8)"
   ]
  },
  {
   "cell_type": "code",
   "execution_count": 6,
   "id": "f46557b2",
   "metadata": {},
   "outputs": [
    {
     "name": "stdout",
     "output_type": "stream",
     "text": [
      "2\n"
     ]
    }
   ],
   "source": [
    "equal(1,2,1)"
   ]
  },
  {
   "cell_type": "markdown",
   "id": "3efda07b",
   "metadata": {},
   "source": [
    "\n",
    "# Question:2"
   ]
  },
  {
   "cell_type": "markdown",
   "id": "75806f90",
   "metadata": {},
   "source": [
    "Write a function that converts a dictionary into a list of keys-values tuples.\n",
    "\n",
    "Examples\n",
    "\n",
    "dict_to_list({\n",
    "    \n",
    "&quot;D&quot;: 1,\n",
    "    \n",
    "&quot;B&quot;: 2,\n",
    "    \n",
    "&quot;C&quot;: 3\n",
    "    \n",
    "}) ➞ [(&quot;B&quot;, 2), (&quot;C&quot;, 3), (&quot;D&quot;, 1)]"
   ]
  },
  {
   "cell_type": "code",
   "execution_count": 7,
   "id": "1250cc0b",
   "metadata": {},
   "outputs": [],
   "source": [
    "def dict_to_list(dict):\n",
    "    \n",
    "    l = []\n",
    "    for i in dict.items():\n",
    "        l.append(i)\n",
    "        #l.sort()\n",
    "    return sorted(l)\n",
    "\n",
    "\n",
    "    "
   ]
  },
  {
   "cell_type": "code",
   "execution_count": 8,
   "id": "167f6eeb",
   "metadata": {},
   "outputs": [
    {
     "data": {
      "text/plain": [
       "[('B', 1), ('C', 2), ('D', 0)]"
      ]
     },
     "execution_count": 8,
     "metadata": {},
     "output_type": "execute_result"
    }
   ],
   "source": [
    "dict_to_list({'D':0,'B':1,'C':2})"
   ]
  },
  {
   "cell_type": "code",
   "execution_count": 9,
   "id": "a10b709c",
   "metadata": {},
   "outputs": [
    {
     "data": {
      "text/plain": [
       "[('dislikes', 5), ('followers', 200), ('likes', 10)]"
      ]
     },
     "execution_count": 9,
     "metadata": {},
     "output_type": "execute_result"
    }
   ],
   "source": [
    "dict_to_list({'likes':10,'dislikes':5,'followers':200})"
   ]
  },
  {
   "cell_type": "markdown",
   "id": "97da7335",
   "metadata": {},
   "source": [
    "# Question: 3"
   ]
  },
  {
   "cell_type": "markdown",
   "id": "232daf76",
   "metadata": {},
   "source": [
    "Write a function that creates a dictionary with each (key, value) pair being the (lower case,\n",
    "upper case) versions of a letter, respectively.\n",
    "\n",
    "Examples\n",
    "\n",
    "mapping([&quot;p&quot;, &quot;s&quot;]) ➞ { &quot;p&quot;: &quot;P&quot;, &quot;s&quot;: &quot;S&quot; }"
   ]
  },
  {
   "cell_type": "code",
   "execution_count": 10,
   "id": "a77e915d",
   "metadata": {},
   "outputs": [],
   "source": [
    "def mapping(in_list):\n",
    "    dict = { }\n",
    "    for i in in_list:\n",
    "        dict[i] = i.upper()\n",
    "    print(dict)\n",
    "        "
   ]
  },
  {
   "cell_type": "code",
   "execution_count": 11,
   "id": "8efe68b9",
   "metadata": {},
   "outputs": [
    {
     "name": "stdout",
     "output_type": "stream",
     "text": [
      "{'p': 'P', 'o': 'O', 's': 'S', 't': 'T'}\n"
     ]
    }
   ],
   "source": [
    " mapping(['p','o','s','t'])"
   ]
  },
  {
   "cell_type": "markdown",
   "id": "fd28754e",
   "metadata": {},
   "source": [
    "# Question:4"
   ]
  },
  {
   "cell_type": "markdown",
   "id": "32a76c48",
   "metadata": {},
   "source": [
    "Write a function, that replaces all vowels in a string with a specified vowel.\n",
    "\n",
    "#Examples:\n",
    "\n",
    "vow_replace(&quot;apples and bananas&quot;, &quot;u&quot;) ➞ &quot;upplus und bununus&quot;\n",
    "\n",
    "vow_replace(&quot;cheese casserole&quot;, &quot;o&quot;) ➞ &quot;chooso cossorolo&quot;\n",
    "\n",
    "vow_replace(&quot;stuffed jalapeno poppers&quot;, &quot;e&quot;) ➞ &quot;steffed jelepene peppers&quot;\n",
    "\n",
    "#Notes\n",
    "\n",
    "All words will be lowercase. Y is not considered a vowel."
   ]
  },
  {
   "cell_type": "code",
   "execution_count": 17,
   "id": "585a4c87",
   "metadata": {},
   "outputs": [],
   "source": [
    "def vowel_change(inp_str, vow_replace):\n",
    "    vowel ='aeiou'\n",
    "    \n",
    "    out_str = ''\n",
    "    \n",
    "    for i in inp_str:\n",
    "        if i in vowel:\n",
    "            out_str += vow_replace\n",
    "        else:\n",
    "            out_str += i\n",
    "            \n",
    "    return out_str"
   ]
  },
  {
   "cell_type": "code",
   "execution_count": 18,
   "id": "36fd8214",
   "metadata": {},
   "outputs": [
    {
     "data": {
      "text/plain": [
       "'upplus und bununus'"
      ]
     },
     "execution_count": 18,
     "metadata": {},
     "output_type": "execute_result"
    }
   ],
   "source": [
    "vowel_change(\"apples and bananas\", \"u\")"
   ]
  },
  {
   "cell_type": "code",
   "execution_count": 19,
   "id": "eb2a1e17",
   "metadata": {},
   "outputs": [
    {
     "data": {
      "text/plain": [
       "'chooso cossorolo'"
      ]
     },
     "execution_count": 19,
     "metadata": {},
     "output_type": "execute_result"
    }
   ],
   "source": [
    "vowel_change(\"cheese casserole\", \"o\")"
   ]
  },
  {
   "cell_type": "markdown",
   "id": "58ae7d85",
   "metadata": {},
   "source": [
    "# Question:5"
   ]
  },
  {
   "cell_type": "markdown",
   "id": "b375ddfc",
   "metadata": {},
   "source": [
    "Create a function that takes a string as input and capitalizes a letter if its ASCII code is even\n",
    "and returns its lower case version if its ASCII code is odd.\n",
    "\n",
    "Examples\n",
    "\n",
    "ascii_capitalize(&quot;to be or not to be!&quot;) ➞ &quot;To Be oR NoT To Be!&quot;\n",
    "\n",
    "ascii_capitalize(&quot;THE LITTLE MERMAID&quot;) ➞ &quot;THe LiTTLe meRmaiD&quot;\n",
    "\n",
    "ascii_capitalize(&quot;Oh what a beautiful morning.&quot;) ➞ &quot;oH wHaT a BeauTiFuL\n",
    "moRNiNg.&quot;"
   ]
  },
  {
   "cell_type": "code",
   "execution_count": 20,
   "id": "0decef33",
   "metadata": {},
   "outputs": [],
   "source": [
    "def ascii_capitalize(in_string):\n",
    "    out_string = ''\n",
    "    for i in in_string.lower():\n",
    "        if (ord(i)%2 == 0):\n",
    "            out_string += i.upper()\n",
    "        else:\n",
    "            out_string += i\n",
    "            \n",
    "    return out_string"
   ]
  },
  {
   "cell_type": "code",
   "execution_count": 22,
   "id": "c441d06d",
   "metadata": {},
   "outputs": [
    {
     "data": {
      "text/plain": [
       "'To Be oR NoT To Be!'"
      ]
     },
     "execution_count": 22,
     "metadata": {},
     "output_type": "execute_result"
    }
   ],
   "source": [
    "ascii_capitalize(\"to be or not to be!\") "
   ]
  },
  {
   "cell_type": "code",
   "execution_count": 23,
   "id": "80c72856",
   "metadata": {},
   "outputs": [
    {
     "data": {
      "text/plain": [
       "'THe LiTTLe meRmaiD'"
      ]
     },
     "execution_count": 23,
     "metadata": {},
     "output_type": "execute_result"
    }
   ],
   "source": [
    "ascii_capitalize(\"THE LITTLE MERMAID\")"
   ]
  },
  {
   "cell_type": "code",
   "execution_count": null,
   "id": "d6974bb0",
   "metadata": {},
   "outputs": [],
   "source": []
  }
 ],
 "metadata": {
  "kernelspec": {
   "display_name": "Python 3",
   "language": "python",
   "name": "python3"
  },
  "language_info": {
   "codemirror_mode": {
    "name": "ipython",
    "version": 3
   },
   "file_extension": ".py",
   "mimetype": "text/x-python",
   "name": "python",
   "nbconvert_exporter": "python",
   "pygments_lexer": "ipython3",
   "version": "3.8.8"
  }
 },
 "nbformat": 4,
 "nbformat_minor": 5
}
