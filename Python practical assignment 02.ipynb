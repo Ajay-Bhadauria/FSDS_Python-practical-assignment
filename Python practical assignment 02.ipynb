{
 "cells": [
  {
   "cell_type": "markdown",
   "id": "e6837b7d",
   "metadata": {},
   "source": [
    "Write a Python program to convert kilometers to miles?"
   ]
  },
  {
   "cell_type": "code",
   "execution_count": 10,
   "id": "4c39f2a1",
   "metadata": {},
   "outputs": [
    {
     "name": "stdout",
     "output_type": "stream",
     "text": [
      "enter distance in kms:56\n",
      "Conversion from km to miles:\n",
      "56.0 kms =  34.79672 miles\n"
     ]
    }
   ],
   "source": [
    "def km_to_miles():\n",
    "    a= float(input(\"enter distance in kms:\"))\n",
    "    b = 0.62137 *a\n",
    "    print(f\"Conversion from km to miles:\\n{a} kms =  {b} miles\")\n",
    "\n",
    "km_to_miles()"
   ]
  },
  {
   "cell_type": "markdown",
   "id": "bf402fe2",
   "metadata": {},
   "source": [
    "Write a Python program to convert Celsius to Fahrenheit"
   ]
  },
  {
   "cell_type": "code",
   "execution_count": 13,
   "id": "bf3dd756",
   "metadata": {},
   "outputs": [
    {
     "name": "stdout",
     "output_type": "stream",
     "text": [
      "Enter temperature in celsius:0\n",
      "Temperatire Conversion from *C to *F:\n",
      "0.0C=32.0F\n"
     ]
    }
   ],
   "source": [
    "def celsius_to_Fahrenheit():\n",
    "    temp_c = float(input(\"Enter temperature in celsius:\"))\n",
    "    temp_f = (temp_c * 9/5) + 32\n",
    "    print(f\"Temperatire Conversion from *C to *F:\\n{temp_c}C={temp_f}F\")\n",
    "    \n",
    "celsius_to_Fahrenheit()"
   ]
  },
  {
   "cell_type": "markdown",
   "id": "46140bb4",
   "metadata": {},
   "source": [
    "Write a Python program to display calendar"
   ]
  },
  {
   "cell_type": "code",
   "execution_count": 19,
   "id": "9deae352",
   "metadata": {},
   "outputs": [
    {
     "name": "stdout",
     "output_type": "stream",
     "text": [
      "Enter year: 2022\n",
      "Enter month: 4\n",
      "     April 2022\n",
      "Mo Tu We Th Fr Sa Su\n",
      "             1  2  3\n",
      " 4  5  6  7  8  9 10\n",
      "11 12 13 14 15 16 17\n",
      "18 19 20 21 22 23 24\n",
      "25 26 27 28 29 30\n",
      "\n"
     ]
    }
   ],
   "source": [
    "def calendar():\n",
    "    import calendar\n",
    "\n",
    "    year = int(input(\"Enter year: \"))\n",
    "    month = int(input(\"Enter month: \"))\n",
    "\n",
    "    print(calendar.month(year,month))\n",
    "    \n",
    "calendar()"
   ]
  },
  {
   "cell_type": "markdown",
   "id": "853dcc11",
   "metadata": {},
   "source": [
    "Write a Python program to solve quadratic equation"
   ]
  },
  {
   "cell_type": "code",
   "execution_count": 23,
   "id": "619b133c",
   "metadata": {},
   "outputs": [
    {
     "name": "stdout",
     "output_type": "stream",
     "text": [
      "Enter coefficient of x**2  : 5\n",
      "Enter coefficient of x  : 6\n",
      "Enter coefficient c : 7\n",
      "The roots of quadratic equation are\n",
      " (-5.999999999999999+16.1245154965971j) \n",
      " (-6.000000000000001-16.1245154965971j)\n"
     ]
    }
   ],
   "source": [
    "def solve_quadratic():\n",
    "    # let the quadratic equation be: ax**2 + bx + c = 0\n",
    "    a = float(input('Enter coefficient of x**2  : '))\n",
    "    b = float(input('Enter coefficient of x  : '))\n",
    "    c= float(input('Enter coefficient c : '))\n",
    "\n",
    "\n",
    "    d = (b**2) - (4*a*c)\n",
    "\n",
    "    # find two solutions\n",
    "    root1 = -b+((d/2*a)**.5)\n",
    "    root2 = -b-((d/2*a)**.5)\n",
    "\n",
    "    print(f'The roots of quadratic equation are\\n {root1} \\n {root2}')\n",
    "\n",
    "solve_quadratic()\n",
    "    \n"
   ]
  },
  {
   "cell_type": "markdown",
   "id": "292ce708",
   "metadata": {},
   "source": [
    "Write a Python program to swap two variables without temp variable"
   ]
  },
  {
   "cell_type": "code",
   "execution_count": 25,
   "id": "71b16c77",
   "metadata": {},
   "outputs": [
    {
     "name": "stdout",
     "output_type": "stream",
     "text": [
      "Enter value of a:5\n",
      "Enter value of b:4\n",
      "value of a (after swapping) : 4.0\n",
      "value of b (after swapping) : 5.0\n"
     ]
    }
   ],
   "source": [
    "def swap():\n",
    "    a = float(input(\"Enter value of a:\"))\n",
    "    b = float(input(\"Enter value of b:\"))\n",
    "    a,b = b,a\n",
    "    \n",
    "    print(\"value of a (after swapping) :\",a)\n",
    "    print(\"value of b (after swapping) :\",b)\n",
    "swap()"
   ]
  },
  {
   "cell_type": "code",
   "execution_count": null,
   "id": "e9d13f9a",
   "metadata": {},
   "outputs": [],
   "source": []
  }
 ],
 "metadata": {
  "kernelspec": {
   "display_name": "Python 3",
   "language": "python",
   "name": "python3"
  },
  "language_info": {
   "codemirror_mode": {
    "name": "ipython",
    "version": 3
   },
   "file_extension": ".py",
   "mimetype": "text/x-python",
   "name": "python",
   "nbconvert_exporter": "python",
   "pygments_lexer": "ipython3",
   "version": "3.8.8"
  }
 },
 "nbformat": 4,
 "nbformat_minor": 5
}
